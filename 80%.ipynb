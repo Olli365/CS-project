{
 "cells": [
  {
   "cell_type": "code",
   "execution_count": 1,
   "metadata": {},
   "outputs": [
    {
     "name": "stderr",
     "output_type": "stream",
     "text": [
      "2025-04-10 15:30:38.264324: I tensorflow/core/util/port.cc:153] oneDNN custom operations are on. You may see slightly different numerical results due to floating-point round-off errors from different computation orders. To turn them off, set the environment variable `TF_ENABLE_ONEDNN_OPTS=0`.\n",
      "2025-04-10 15:30:38.410269: E external/local_xla/xla/stream_executor/cuda/cuda_fft.cc:477] Unable to register cuFFT factory: Attempting to register factory for plugin cuFFT when one has already been registered\n",
      "WARNING: All log messages before absl::InitializeLog() is called are written to STDERR\n",
      "E0000 00:00:1744295438.467721    1637 cuda_dnn.cc:8310] Unable to register cuDNN factory: Attempting to register factory for plugin cuDNN when one has already been registered\n",
      "E0000 00:00:1744295438.484080    1637 cuda_blas.cc:1418] Unable to register cuBLAS factory: Attempting to register factory for plugin cuBLAS when one has already been registered\n",
      "2025-04-10 15:30:38.630244: I tensorflow/core/platform/cpu_feature_guard.cc:210] This TensorFlow binary is optimized to use available CPU instructions in performance-critical operations.\n",
      "To enable the following instructions: AVX2 AVX512F AVX512_VNNI AVX512_BF16 FMA, in other operations, rebuild TensorFlow with the appropriate compiler flags.\n"
     ]
    }
   ],
   "source": [
    "import os\n",
    "import glob\n",
    "import tensorflow as tf\n",
    "import wave\n",
    "import concurrent.futures\n",
    "from matplotlib import pyplot as plt\n",
    "from tensorflow.keras.models import Model\n",
    "from tensorflow.keras.layers import Conv2D, Dense, GlobalAveragePooling2D, Dropout, BatchNormalization, Input\n",
    "import random\n"
   ]
  },
  {
   "cell_type": "code",
   "execution_count": 2,
   "metadata": {},
   "outputs": [],
   "source": [
    "# ---------------------------------------------------------\n",
    "# 1. Define dataset directories and assign dataset IDs\n",
    "# ---------------------------------------------------------\n",
    "australia_dir = '/mnt/f/mars_global_acoustic_study/australia_acoustics/'\n",
    "indonesia_dir = '/mnt/f/mars_global_acoustic_study/indonesia_acoustics/raw_audio/'\n",
    "maldives_dir  = '/mnt/f/mars_global_acoustic_study/maldives_acoustics/'\n",
    "mexico_dir    = '/mnt/f/mars_global_acoustic_study/mexico_acoustics/'\n",
    "\n",
    "# Dataset IDs: Australia = 1, Indonesia = 2, Maldives = 3, Mexico = 4"
   ]
  },
  {
   "cell_type": "code",
   "execution_count": 3,
   "metadata": {},
   "outputs": [],
   "source": [
    "skip = \"yes\""
   ]
  },
  {
   "cell_type": "code",
   "execution_count": 4,
   "metadata": {},
   "outputs": [],
   "source": [
    "# ---------------------------------------------------------\n",
    "# 2. Control variable for balancing:\n",
    "#    Total samples per dataset (50/50 split for H and D).\n",
    "# ---------------------------------------------------------\n",
    "samples_per_class = 8000  # e.g., 500 H and 500 D per dataset"
   ]
  },
  {
   "cell_type": "code",
   "execution_count": 5,
   "metadata": {},
   "outputs": [],
   "source": [
    "# ---------------------------------------------------------\n",
    "# 3. Helper: Check if a WAV file is exactly 60 seconds long.\n",
    "# ---------------------------------------------------------\n",
    "def is_sixty_seconds_file(path):\n",
    "    try:\n",
    "        with wave.open(path, 'rb') as wf:\n",
    "            frames = wf.getnframes()\n",
    "            sr = wf.getframerate()\n",
    "            return frames == sr * 60\n",
    "    except Exception:\n",
    "        return False"
   ]
  },
  {
   "cell_type": "code",
   "execution_count": 6,
   "metadata": {},
   "outputs": [],
   "source": [
    "# ---------------------------------------------------------\n",
    "# 4. Label extraction functions (Python version)\n",
    "# ---------------------------------------------------------\n",
    "import os\n",
    "\n",
    "def extract_label_from_folder_py(file_path):\n",
    "    # For datasets with subfolders.\n",
    "    # Example file path: .../Degraded_Moth32/20230207_050000.WAV\n",
    "    # We split on os.sep and take the parent folder (e.g. \"Degraded_Moth32\")\n",
    "    parts = file_path.split(os.sep)\n",
    "    if len(parts) < 2:\n",
    "        return -1\n",
    "    folder = parts[-2]\n",
    "    # Use the first character of the folder name.\n",
    "    if folder.startswith(\"H\"):\n",
    "        return 0\n",
    "    elif folder.startswith(\"D\"):\n",
    "        return 1\n",
    "    else:\n",
    "        return -1\n",
    "\n",
    "def extract_label_from_filename_py(file_path):\n",
    "    # For Indonesia files.\n",
    "    # Example file path: '/mnt/f/mars_global_acoustic_study/indonesia_acoustics/raw_audio/ind_D1_20220829_120000.WAV'\n",
    "    # Remove the prefix if it exists.\n",
    "    prefix = '/mnt/f/mars_global_acoustic_study/indonesia_acoustics/raw_audio/'\n",
    "    if file_path.startswith(prefix):\n",
    "        file_path = file_path[len(prefix):]\n",
    "    # Now file_path might look like \"ind_D1_20220829_120000.WAV\"\n",
    "    parts = file_path.split('_')\n",
    "    if len(parts) < 2:\n",
    "        return -1\n",
    "    # Take the first character of the second token, e.g., \"D1\" -> \"D\"\n",
    "    if parts[1][0] == \"H\":\n",
    "        return 0\n",
    "    elif parts[1][0] == \"D\":\n",
    "        return 1\n",
    "    else:\n",
    "        return -1"
   ]
  },
  {
   "cell_type": "code",
   "execution_count": 7,
   "metadata": {},
   "outputs": [
    {
     "name": "stdout",
     "output_type": "stream",
     "text": [
      "0\n"
     ]
    }
   ],
   "source": [
    "example_path = '/mnt/f/mars_global_acoustic_study/mexico_acoustics/H_M43/20230531_212400.WAV'\n",
    "print(extract_label_from_folder_py(example_path))"
   ]
  },
  {
   "cell_type": "code",
   "execution_count": 8,
   "metadata": {},
   "outputs": [
    {
     "name": "stdout",
     "output_type": "stream",
     "text": [
      "1\n"
     ]
    }
   ],
   "source": [
    "# Example usage:\n",
    "example_path = '/mnt/f/mars_global_acoustic_study/indonesia_acoustics/raw_audio/ind_D1_20220829_120000.WAV'\n",
    "print(extract_label_from_filename_py(example_path))  # Expected output: 1"
   ]
  },
  {
   "cell_type": "code",
   "execution_count": 9,
   "metadata": {},
   "outputs": [],
   "source": [
    "# ---------------------------------------------------------\n",
    "# 5. Build a single file list for all datasets.\n",
    "# ---------------------------------------------------------\n",
    "import glob\n",
    "import concurrent.futures\n",
    "import random\n",
    "\n",
    "def check_file(f, ds_id):\n",
    "    if is_sixty_seconds_file(f):\n",
    "        return f  # Return the file path if valid.\n",
    "    return None\n",
    "\n",
    "def get_files_for_dataset(root_dir, ds_id, samples_per_class=50):\n",
    "    pos_files = []\n",
    "    neg_files = []\n",
    "    # Build the glob pattern (assumes a subfolder structure).\n",
    "    if ds_id == 2:\n",
    "        pattern = os.path.join(root_dir, \"*.WAV\")\n",
    "    else:\n",
    "        pattern = os.path.join(root_dir, \"*\", \"*.WAV\")\n",
    "    files = glob.glob(pattern)\n",
    "    print(f\"Dataset {ds_id}: Total files found by glob: {len(files)}\")\n",
    "    # Shuffle the file list for random processing.\n",
    "    random.shuffle(files)\n",
    "    \n",
    "    # Loop over the files until we have enough for both classes.\n",
    "    for f in files:\n",
    "        # Stop if we've collected enough files for both classes.\n",
    "        if len(pos_files) >= samples_per_class and len(neg_files) >= samples_per_class:\n",
    "            break\n",
    "        \n",
    "        # Check if the file is exactly 60 seconds long.\n",
    "        if not is_sixty_seconds_file(f):\n",
    "            continue\n",
    "        \n",
    "        # Extract the label depending on the dataset.\n",
    "        if ds_id == 2:\n",
    "            label = extract_label_from_filename_py(f)\n",
    "        else:\n",
    "            label = extract_label_from_folder_py(f)\n",
    "        \n",
    "        # Only add files with a valid label.\n",
    "        if label == 1 and len(pos_files) < samples_per_class:\n",
    "            pos_files.append((f, label, float(ds_id)))\n",
    "        elif label == 0 and len(neg_files) < samples_per_class:\n",
    "            neg_files.append((f, label, float(ds_id)))\n",
    "    \n",
    "    files_found = pos_files + neg_files\n",
    "    random.shuffle(files_found)\n",
    "    print(f\"Dataset {ds_id}: Collected {len(files_found)} files (target was {2 * samples_per_class}).\")\n",
    "    return files_found"
   ]
  },
  {
   "cell_type": "code",
   "execution_count": 10,
   "metadata": {},
   "outputs": [
    {
     "name": "stdout",
     "output_type": "stream",
     "text": [
      "Dataset 1: Total files found by glob: 97232\n"
     ]
    },
    {
     "ename": "KeyboardInterrupt",
     "evalue": "",
     "output_type": "error",
     "traceback": [
      "\u001b[0;31m---------------------------------------------------------------------------\u001b[0m",
      "\u001b[0;31mKeyboardInterrupt\u001b[0m                         Traceback (most recent call last)",
      "Cell \u001b[0;32mIn[10], line 1\u001b[0m\n\u001b[0;32m----> 1\u001b[0m files_australia \u001b[38;5;241m=\u001b[39m \u001b[43mget_files_for_dataset\u001b[49m\u001b[43m(\u001b[49m\u001b[43maustralia_dir\u001b[49m\u001b[43m,\u001b[49m\u001b[43m \u001b[49m\u001b[43mds_id\u001b[49m\u001b[38;5;241;43m=\u001b[39;49m\u001b[38;5;241;43m1\u001b[39;49m\u001b[43m,\u001b[49m\u001b[43m \u001b[49m\u001b[43msamples_per_class\u001b[49m\u001b[38;5;241;43m=\u001b[39;49m\u001b[43msamples_per_class\u001b[49m\u001b[43m)\u001b[49m\n",
      "Cell \u001b[0;32mIn[9], line 33\u001b[0m, in \u001b[0;36mget_files_for_dataset\u001b[0;34m(root_dir, ds_id, samples_per_class)\u001b[0m\n\u001b[1;32m     30\u001b[0m     \u001b[38;5;28;01mbreak\u001b[39;00m\n\u001b[1;32m     32\u001b[0m \u001b[38;5;66;03m# Check if the file is exactly 60 seconds long.\u001b[39;00m\n\u001b[0;32m---> 33\u001b[0m \u001b[38;5;28;01mif\u001b[39;00m \u001b[38;5;129;01mnot\u001b[39;00m \u001b[43mis_sixty_seconds_file\u001b[49m\u001b[43m(\u001b[49m\u001b[43mf\u001b[49m\u001b[43m)\u001b[49m:\n\u001b[1;32m     34\u001b[0m     \u001b[38;5;28;01mcontinue\u001b[39;00m\n\u001b[1;32m     36\u001b[0m \u001b[38;5;66;03m# Extract the label depending on the dataset.\u001b[39;00m\n",
      "Cell \u001b[0;32mIn[5], line 6\u001b[0m, in \u001b[0;36mis_sixty_seconds_file\u001b[0;34m(path)\u001b[0m\n\u001b[1;32m      4\u001b[0m \u001b[38;5;28;01mdef\u001b[39;00m \u001b[38;5;21mis_sixty_seconds_file\u001b[39m(path):\n\u001b[1;32m      5\u001b[0m     \u001b[38;5;28;01mtry\u001b[39;00m:\n\u001b[0;32m----> 6\u001b[0m         \u001b[38;5;28;01mwith\u001b[39;00m \u001b[43mwave\u001b[49m\u001b[38;5;241;43m.\u001b[39;49m\u001b[43mopen\u001b[49m\u001b[43m(\u001b[49m\u001b[43mpath\u001b[49m\u001b[43m,\u001b[49m\u001b[43m \u001b[49m\u001b[38;5;124;43m'\u001b[39;49m\u001b[38;5;124;43mrb\u001b[39;49m\u001b[38;5;124;43m'\u001b[39;49m\u001b[43m)\u001b[49m \u001b[38;5;28;01mas\u001b[39;00m wf:\n\u001b[1;32m      7\u001b[0m             frames \u001b[38;5;241m=\u001b[39m wf\u001b[38;5;241m.\u001b[39mgetnframes()\n\u001b[1;32m      8\u001b[0m             sr \u001b[38;5;241m=\u001b[39m wf\u001b[38;5;241m.\u001b[39mgetframerate()\n",
      "File \u001b[0;32m~/anaconda3/envs/perch/lib/python3.10/wave.py:509\u001b[0m, in \u001b[0;36mopen\u001b[0;34m(f, mode)\u001b[0m\n\u001b[1;32m    507\u001b[0m         mode \u001b[38;5;241m=\u001b[39m \u001b[38;5;124m'\u001b[39m\u001b[38;5;124mrb\u001b[39m\u001b[38;5;124m'\u001b[39m\n\u001b[1;32m    508\u001b[0m \u001b[38;5;28;01mif\u001b[39;00m mode \u001b[38;5;129;01min\u001b[39;00m (\u001b[38;5;124m'\u001b[39m\u001b[38;5;124mr\u001b[39m\u001b[38;5;124m'\u001b[39m, \u001b[38;5;124m'\u001b[39m\u001b[38;5;124mrb\u001b[39m\u001b[38;5;124m'\u001b[39m):\n\u001b[0;32m--> 509\u001b[0m     \u001b[38;5;28;01mreturn\u001b[39;00m \u001b[43mWave_read\u001b[49m\u001b[43m(\u001b[49m\u001b[43mf\u001b[49m\u001b[43m)\u001b[49m\n\u001b[1;32m    510\u001b[0m \u001b[38;5;28;01melif\u001b[39;00m mode \u001b[38;5;129;01min\u001b[39;00m (\u001b[38;5;124m'\u001b[39m\u001b[38;5;124mw\u001b[39m\u001b[38;5;124m'\u001b[39m, \u001b[38;5;124m'\u001b[39m\u001b[38;5;124mwb\u001b[39m\u001b[38;5;124m'\u001b[39m):\n\u001b[1;32m    511\u001b[0m     \u001b[38;5;28;01mreturn\u001b[39;00m Wave_write(f)\n",
      "File \u001b[0;32m~/anaconda3/envs/perch/lib/python3.10/wave.py:159\u001b[0m, in \u001b[0;36mWave_read.__init__\u001b[0;34m(self, f)\u001b[0m\n\u001b[1;32m    157\u001b[0m \u001b[38;5;28mself\u001b[39m\u001b[38;5;241m.\u001b[39m_i_opened_the_file \u001b[38;5;241m=\u001b[39m \u001b[38;5;28;01mNone\u001b[39;00m\n\u001b[1;32m    158\u001b[0m \u001b[38;5;28;01mif\u001b[39;00m \u001b[38;5;28misinstance\u001b[39m(f, \u001b[38;5;28mstr\u001b[39m):\n\u001b[0;32m--> 159\u001b[0m     f \u001b[38;5;241m=\u001b[39m \u001b[43mbuiltins\u001b[49m\u001b[38;5;241;43m.\u001b[39;49m\u001b[43mopen\u001b[49m\u001b[43m(\u001b[49m\u001b[43mf\u001b[49m\u001b[43m,\u001b[49m\u001b[43m \u001b[49m\u001b[38;5;124;43m'\u001b[39;49m\u001b[38;5;124;43mrb\u001b[39;49m\u001b[38;5;124;43m'\u001b[39;49m\u001b[43m)\u001b[49m\n\u001b[1;32m    160\u001b[0m     \u001b[38;5;28mself\u001b[39m\u001b[38;5;241m.\u001b[39m_i_opened_the_file \u001b[38;5;241m=\u001b[39m f\n\u001b[1;32m    161\u001b[0m \u001b[38;5;66;03m# else, assume it is an open file object already\u001b[39;00m\n",
      "\u001b[0;31mKeyboardInterrupt\u001b[0m: "
     ]
    }
   ],
   "source": [
    "files_australia = get_files_for_dataset(australia_dir, ds_id=1, samples_per_class=samples_per_class)"
   ]
  },
  {
   "cell_type": "code",
   "execution_count": null,
   "metadata": {},
   "outputs": [
    {
     "name": "stdout",
     "output_type": "stream",
     "text": [
      "Dataset 3: Total files found by glob: 58525\n",
      "Dataset 3: Collected 16000 files (target was 16000).\n"
     ]
    }
   ],
   "source": [
    "files_maldives  = get_files_for_dataset(maldives_dir,  ds_id=3, samples_per_class=samples_per_class)"
   ]
  },
  {
   "cell_type": "code",
   "execution_count": null,
   "metadata": {},
   "outputs": [
    {
     "name": "stdout",
     "output_type": "stream",
     "text": [
      "Dataset 4: Total files found by glob: 86383\n",
      "Dataset 4: Collected 16000 files (target was 16000).\n"
     ]
    }
   ],
   "source": [
    "files_mexico    = get_files_for_dataset(mexico_dir,    ds_id=4, samples_per_class=samples_per_class)"
   ]
  },
  {
   "cell_type": "code",
   "execution_count": null,
   "metadata": {},
   "outputs": [
    {
     "name": "stdout",
     "output_type": "stream",
     "text": [
      "Dataset 2: Total files found by glob: 267776\n",
      "Dataset 2: Collected 16000 files (target was 16000).\n"
     ]
    }
   ],
   "source": [
    "files_indonesia = get_files_for_dataset(indonesia_dir, ds_id=2, samples_per_class=samples_per_class)"
   ]
  },
  {
   "cell_type": "code",
   "execution_count": null,
   "metadata": {},
   "outputs": [
    {
     "name": "stdout",
     "output_type": "stream",
     "text": [
      "Total valid files: 64000\n"
     ]
    }
   ],
   "source": [
    "# Combine file lists.\n",
    "all_files = files_australia + files_indonesia + files_maldives + files_mexico\n",
    "print(f\"Total valid files: {len(all_files)}\")"
   ]
  },
  {
   "cell_type": "code",
   "execution_count": null,
   "metadata": {},
   "outputs": [
    {
     "name": "stdout",
     "output_type": "stream",
     "text": [
      "Sample files:\n",
      "('/mnt/f/mars_global_acoustic_study/australia_acoustics/Degraded_Moth33/20230315_184000.WAV', 1, 1.0)\n",
      "('/mnt/f/mars_global_acoustic_study/australia_acoustics/Healthy_Moth36/20230210_021200.WAV', 0, 1.0)\n",
      "('/mnt/f/mars_global_acoustic_study/australia_acoustics/Degraded_Moth34/20230303_013200.WAV', 1, 1.0)\n",
      "('/mnt/f/mars_global_acoustic_study/australia_acoustics/Degraded_Moth33/20230310_090800.WAV', 1, 1.0)\n",
      "('/mnt/f/mars_global_acoustic_study/australia_acoustics/Healthy_Moth36/20230218_213600.WAV', 0, 1.0)\n"
     ]
    }
   ],
   "source": [
    "print(\"Sample files:\")\n",
    "for i, item in enumerate(all_files[:5]):\n",
    "    print(item)"
   ]
  },
  {
   "cell_type": "code",
   "execution_count": null,
   "metadata": {},
   "outputs": [
    {
     "name": "stdout",
     "output_type": "stream",
     "text": [
      "Positive files count: 32000\n",
      "Negative files count: 32000\n"
     ]
    }
   ],
   "source": [
    "# all_files is a list of tuples (file_path, ds_value)\n",
    "pos_files = [item for item in all_files if item[1] == 1]\n",
    "neg_files = [item for item in all_files if item[1] == 0]\n",
    "x = [item for item in all_files if item[1] == -1]\n",
    "print(\"Positive files count:\", len(pos_files))\n",
    "print(\"Negative files count:\", len(neg_files))\n"
   ]
  },
  {
   "cell_type": "code",
   "execution_count": null,
   "metadata": {},
   "outputs": [],
   "source": [
    "# ---------------------------------------------------------\n",
    "# 6. Create a tf.data.Dataset from the file list and extract labels.\n",
    "# ---------------------------------------------------------\n",
    "# Now, all_files is a list of tuples: (file_path, label, dataset_id)\n",
    "file_paths = [f for f, label, ds in all_files]\n",
    "labels = [label for f, label, ds in all_files]\n",
    "ds_ids = [ds for f, label, ds in all_files]\n",
    "\n",
    "# Create the dataset from a tuple of file_paths, ds_ids, and labels.\n",
    "ds_all = tf.data.Dataset.from_tensor_slices((file_paths, ds_ids, labels))\n",
    "\n",
    "def restructure(file_path, dataset_id, label):\n",
    "    # Return a tuple in the format: ((file_path, dataset_id), label)\n",
    "    return ((file_path, tf.cast(dataset_id, tf.float32)), label)\n",
    "\n",
    "ds_all = ds_all.map(restructure, num_parallel_calls=tf.data.AUTOTUNE)"
   ]
  },
  {
   "cell_type": "code",
   "execution_count": null,
   "metadata": {},
   "outputs": [
    {
     "data": {
      "text/plain": [
       "<_ParallelMapDataset element_spec=((TensorSpec(shape=(), dtype=tf.string, name=None), TensorSpec(shape=(), dtype=tf.float32, name=None)), TensorSpec(shape=(), dtype=tf.int32, name=None))>"
      ]
     },
     "execution_count": 56,
     "metadata": {},
     "output_type": "execute_result"
    }
   ],
   "source": [
    "ds_all"
   ]
  },
  {
   "cell_type": "code",
   "execution_count": null,
   "metadata": {},
   "outputs": [],
   "source": [
    "if skip != \"yes\":    \n",
    "    print(\"First sample (per label) from each dataset:\")\n",
    "\n",
    "    for ds_id in [1, 2, 3, 4]:\n",
    "        for label_val in [0, 1]:\n",
    "            # Filter ds_all for the current dataset ID and label.\n",
    "            ds_filtered = ds_all.filter(lambda inputs, lbl: tf.logical_and(\n",
    "                tf.equal(inputs[1], tf.cast(ds_id, tf.float32)),\n",
    "                tf.equal(lbl, label_val)\n",
    "            ))\n",
    "            # Take the first element.\n",
    "            sample = next(iter(ds_filtered.take(1)), None)\n",
    "            if sample is None:\n",
    "                print(f\"Dataset {ds_id} | Label: {label_val} | No sample found.\")\n",
    "            else:\n",
    "                ((file_path, dataset_id), lbl) = sample\n",
    "                # Decode file_path if it is in bytes.\n",
    "                file_path_str = file_path.numpy().decode('utf-8') if isinstance(file_path.numpy(), bytes) else file_path.numpy()\n",
    "                print(f\"Dataset {int(dataset_id.numpy())} | Label: {lbl.numpy()} | Filename: {file_path_str}\")\n"
   ]
  },
  {
   "cell_type": "code",
   "execution_count": null,
   "metadata": {},
   "outputs": [],
   "source": [
    "if skip != \"yes\":\n",
    "    def count_by_ds(ds, ds_id):\n",
    "        ds_filtered = ds.filter(lambda inputs, label: tf.equal(inputs[1], tf.cast(ds_id, tf.float32)))\n",
    "        count0 = ds_filtered.filter(lambda inputs, label: tf.equal(label, 0)).reduce(0, lambda x, _: x+1)\n",
    "        count1 = ds_filtered.filter(lambda inputs, label: tf.equal(label, 1)).reduce(0, lambda x, _: x+1)\n",
    "        return count0.numpy(), count1.numpy()\n",
    "\n",
    "    for ds_id in [1, 2, 3, 4]:\n",
    "        c0, c1 = count_by_ds(ds_all, ds_id)\n",
    "        print(f\"Dataset {ds_id} - Healthy (0): {c0}, Degraded (1): {c1}\")"
   ]
  },
  {
   "cell_type": "code",
   "execution_count": null,
   "metadata": {},
   "outputs": [],
   "source": [
    "# ---------------------------------------------------------\n",
    "# 7. Balance the dataset per location.\n",
    "#    We first split by dataset ID, then select samples_per_class per label.\n",
    "# ---------------------------------------------------------\n",
    "def filter_by_ds(ds, ds_id):\n",
    "    # The second element of inputs (index 1) is the dataset ID.\n",
    "    return ds.filter(lambda inputs, label: tf.equal(inputs[1], tf.cast(ds_id, tf.float32)))\n",
    "\n",
    "def balance_ds(ds):\n",
    "    # Use samples_per_class directly for each label.\n",
    "    samples_per_label = samples_per_class  \n",
    "    balanced = None\n",
    "    for label_val in [0, 1]:\n",
    "        ds_label = ds.filter(lambda inputs, label: tf.equal(label, label_val))\n",
    "        ds_label = ds_label.shuffle(10000).take(samples_per_label)\n",
    "        if balanced is None:\n",
    "            balanced = ds_label\n",
    "        else:\n",
    "            balanced = balanced.concatenate(ds_label)\n",
    "    return balanced.shuffle(10000)\n",
    "\n",
    "balanced_datasets = []\n",
    "for ds_id in [1, 2, 3, 4]:\n",
    "    ds_filtered = filter_by_ds(ds_all, ds_id)\n",
    "    balanced_subset = balance_ds(ds_filtered)\n",
    "    balanced_datasets.append(balanced_subset)  # Append the balanced subset\n",
    "\n",
    "# Concatenate all balanced datasets into one.\n",
    "balanced_data = balanced_datasets[0]\n",
    "for ds in balanced_datasets[1:]:\n",
    "    balanced_data = balanced_data.concatenate(ds)"
   ]
  },
  {
   "cell_type": "code",
   "execution_count": null,
   "metadata": {},
   "outputs": [],
   "source": [
    "if skip != \"yes\":    \n",
    "    def count_labels_batched(ds):\n",
    "        total_healthy = 0\n",
    "        total_degraded = 0\n",
    "        for (_, labels) in ds:\n",
    "            # labels is a tensor of shape (batch_size,)\n",
    "            total_healthy += tf.reduce_sum(tf.cast(tf.equal(labels, 0), tf.int32)).numpy()\n",
    "            total_degraded += tf.reduce_sum(tf.cast(tf.equal(labels, 1), tf.int32)).numpy()\n",
    "        return total_healthy, total_degraded\n",
    "\n",
    "    count0, count1 = count_labels_batched(balanced_data)\n",
    "    print(f\"Balanced dataset counts - Healthy (0): {count0}, Degraded (1): {count1}\")\n"
   ]
  },
  {
   "cell_type": "code",
   "execution_count": null,
   "metadata": {},
   "outputs": [],
   "source": [
    "if skip != \"yes\":    \n",
    "    def count_by_label(ds, label_val):\n",
    "        # This function filters the dataset for a given label and counts the elements.\n",
    "        return ds.filter(lambda inputs, label: tf.equal(label, label_val)) \\\n",
    "                .reduce(0, lambda x, _: x + 1).numpy()\n",
    "\n",
    "    print(\"Counts for each dataset in the balanced data:\")\n",
    "    for ds_id, ds in zip([1, 2, 3, 4], balanced_datasets):\n",
    "        count_healthy = count_by_label(ds, 0)\n",
    "        count_degraded = count_by_label(ds, 1)\n",
    "        print(f\"Dataset {ds_id} - Healthy (0): {count_healthy}, Degraded (1): {count_degraded}\")"
   ]
  },
  {
   "cell_type": "code",
   "execution_count": null,
   "metadata": {},
   "outputs": [],
   "source": [
    "# ---------------------------------------------------------\n",
    "# 8. Audio loading and preprocessing (including extra features)\n",
    "# ---------------------------------------------------------\n",
    "mel = \"yes\"\n",
    "if mel != \"yes\":\n",
    "    def load_wav_16k_mono(filename):\n",
    "        file_contents = tf.io.read_file(filename)\n",
    "        wav, sample_rate = tf.audio.decode_wav(file_contents, desired_channels=1)\n",
    "        wav = tf.squeeze(wav, axis=-1)\n",
    "        \n",
    "        target_sr = 16000\n",
    "        orig_length = tf.shape(wav)[0]\n",
    "        new_length = tf.cast(tf.cast(orig_length, tf.float32) *\n",
    "                            (tf.cast(target_sr, tf.float32) / tf.cast(sample_rate, tf.float32)),\n",
    "                            tf.int32)\n",
    "        \n",
    "        # Treat the audio as a 1-row “image” for resizing.\n",
    "        wav_expanded = tf.expand_dims(tf.expand_dims(tf.expand_dims(wav, 0), 0), -1)\n",
    "        wav_resized = tf.image.resize(wav_expanded, size=[1, new_length], method='bilinear')\n",
    "        wav_resized = tf.squeeze(wav_resized, axis=[0, 1, 3])\n",
    "        return wav_resized\n",
    "\n",
    "def preprocess_lin(inputs, label):\n",
    "    # inputs is a tuple: (file_path, dataset_id)\n",
    "    file_path, dataset_id = inputs\n",
    "    # Ensure dataset_id is a float.\n",
    "    dataset_id = tf.cast(dataset_id, tf.float32)\n",
    "    \n",
    "    wav = load_wav_16k_mono(file_path)\n",
    "    wav = wav[:48000]\n",
    "    padding_amount = tf.maximum(48000 - tf.shape(wav)[0], 0)\n",
    "    wav = tf.concat([tf.zeros([padding_amount], dtype=tf.float32), wav], axis=0)\n",
    "    \n",
    "    spectrogram = tf.signal.stft(wav, frame_length=320, frame_step=32)\n",
    "    spectrogram = tf.abs(spectrogram)\n",
    "    spectrogram = tf.expand_dims(spectrogram, axis=-1)\n",
    "    # Ensure a fixed shape: (1491, 257, 1)\n",
    "    spectrogram.set_shape((1491, 257, 1))\n",
    "    \n",
    "    # Extra features:\n",
    "    filename = tf.strings.split(file_path, os.sep)[-1]\n",
    "    is_indonesia = tf.strings.regex_full_match(filename, r'^ind.*')\n",
    "    \n",
    "    def extract_time():\n",
    "        parts = tf.strings.split(filename, '_')\n",
    "        time_str = tf.strings.substr(parts[1], 0, 4)\n",
    "        time_num = tf.strings.to_number(time_str, out_type=tf.float32)\n",
    "        return time_num / 2359.0  # Normalize\n",
    "    \n",
    "    time_feature = tf.cond(is_indonesia,\n",
    "                           lambda: tf.constant(0.0, dtype=tf.float32),\n",
    "                           extract_time)\n",
    "    dataset_feature = dataset_id / 4.0\n",
    "    extra_features = tf.stack([time_feature, dataset_feature])\n",
    "    \n",
    "    # Return as a tuple in the correct order.\n",
    "    return (spectrogram, extra_features), label"
   ]
  },
  {
   "cell_type": "code",
   "execution_count": null,
   "metadata": {},
   "outputs": [],
   "source": [
    "def load_wav_16k_mono(filename):\n",
    "    file_contents = tf.io.read_file(filename)\n",
    "    wav, sample_rate = tf.audio.decode_wav(file_contents, desired_channels=1)\n",
    "    wav = tf.squeeze(wav, axis=-1)\n",
    "    \n",
    "    target_sr = 16000\n",
    "    orig_length = tf.shape(wav)[0]\n",
    "    new_length = tf.cast(tf.cast(orig_length, tf.float32) *\n",
    "                         (tf.cast(target_sr, tf.float32) / tf.cast(sample_rate, tf.float32)),\n",
    "                         tf.int32)\n",
    "    \n",
    "    # Resize the audio by treating it as a 1-row image.\n",
    "    wav_expanded = tf.expand_dims(tf.expand_dims(tf.expand_dims(wav, 0), 0), -1)\n",
    "    wav_resized = tf.image.resize(wav_expanded, size=[1, new_length], method='bilinear')\n",
    "    wav_resized = tf.squeeze(wav_resized, axis=[0, 1, 3])\n",
    "    return wav_resized\n",
    "\n",
    "def preprocess_mel(inputs, label):\n",
    "    \"\"\"\n",
    "    inputs: a tuple (file_path, dataset_id)\n",
    "    label: class label\n",
    "    Returns: ((mel_spectrogram, extra_features), label)\n",
    "    \"\"\"\n",
    "    file_path, dataset_id = inputs\n",
    "    dataset_id = tf.cast(dataset_id, tf.float32)\n",
    "    \n",
    "    # 1. Load the waveform and pad to 48000 samples.\n",
    "    wav = load_wav_16k_mono(file_path)\n",
    "    wav = wav[:48000]\n",
    "    padding_amount = tf.maximum(48000 - tf.shape(wav)[0], 0)\n",
    "    wav = tf.concat([tf.zeros([padding_amount], dtype=tf.float32), wav], axis=0)\n",
    "    \n",
    "    # 2. Compute the STFT.\n",
    "    stfts = tf.signal.stft(wav, frame_length=320, frame_step=32)\n",
    "    spectrogram = tf.abs(stfts)  # shape: (1491, 257)\n",
    "    \n",
    "    # 3. Convert the linear spectrogram to the mel scale.\n",
    "    num_spectrogram_bins = tf.shape(spectrogram)[-1]  # expected: 257\n",
    "    num_mel_bins = 64\n",
    "    sample_rate = 16000\n",
    "    lower_edge_hertz = 80.0\n",
    "    upper_edge_hertz = 7600.0\n",
    "    mel_weight_matrix = tf.signal.linear_to_mel_weight_matrix(\n",
    "        num_mel_bins, num_spectrogram_bins, sample_rate,\n",
    "        lower_edge_hertz, upper_edge_hertz)\n",
    "    mel_spectrogram = tf.tensordot(spectrogram, mel_weight_matrix, 1)\n",
    "    mel_spectrogram.set_shape([1491, num_mel_bins])\n",
    "    \n",
    "    # 4. Log scaling.\n",
    "    mel_spectrogram = tf.math.log(mel_spectrogram + 1e-6)\n",
    "    mel_spectrogram = tf.expand_dims(mel_spectrogram, axis=-1)  # shape: (1491, 64, 1)\n",
    "    \n",
    "    # 5. Compute extra features (same as your linear pipeline).\n",
    "    filename = tf.strings.split(file_path, os.sep)[-1]\n",
    "    is_indonesia = tf.strings.regex_full_match(filename, r'^ind.*')\n",
    "    \n",
    "    def extract_time():\n",
    "        parts = tf.strings.split(filename, '_')\n",
    "        time_str = tf.strings.substr(parts[1], 0, 4)\n",
    "        time_num = tf.strings.to_number(time_str, out_type=tf.float32)\n",
    "        return time_num / 2359.0  # normalization example\n",
    "    \n",
    "    time_feature = tf.cond(is_indonesia,\n",
    "                           lambda: tf.constant(0.0, dtype=tf.float32),\n",
    "                           extract_time)\n",
    "    dataset_feature = dataset_id / 4.0\n",
    "    extra_features = tf.stack([time_feature, dataset_feature])  # shape: (2,)\n",
    "    \n",
    "    # 6. Return in the same structure as your linear pipeline.\n",
    "    return (mel_spectrogram, extra_features), label\n"
   ]
  },
  {
   "cell_type": "code",
   "execution_count": null,
   "metadata": {},
   "outputs": [],
   "source": [
    "filepath, label = balanced_data.shuffle(buffer_size=10).as_numpy_iterator().next()"
   ]
  },
  {
   "cell_type": "code",
   "execution_count": null,
   "metadata": {},
   "outputs": [],
   "source": [
    "spectrogram, label = preprocess_mel(filepath, label)"
   ]
  },
  {
   "cell_type": "code",
   "execution_count": null,
   "metadata": {},
   "outputs": [
    {
     "data": {
      "text/plain": [
       "<tf.Tensor: shape=(64, 1), dtype=float32, numpy=\n",
       "array([[-5.5494385],\n",
       "       [-5.6940727],\n",
       "       [-5.6920667],\n",
       "       [-5.8140464],\n",
       "       [-5.5737934],\n",
       "       [-5.66205  ],\n",
       "       [-5.4867773],\n",
       "       [-4.8760133],\n",
       "       [-5.19592  ],\n",
       "       [-4.779265 ],\n",
       "       [-3.7369175],\n",
       "       [-3.586233 ],\n",
       "       [-4.1325207],\n",
       "       [-4.763401 ],\n",
       "       [-5.357435 ],\n",
       "       [-5.8685617],\n",
       "       [-5.9582133],\n",
       "       [-6.2362137],\n",
       "       [-6.1803546],\n",
       "       [-6.9854007],\n",
       "       [-6.033242 ],\n",
       "       [-5.6665483],\n",
       "       [-5.4533668],\n",
       "       [-5.6403995],\n",
       "       [-5.4132853],\n",
       "       [-5.0106616],\n",
       "       [-5.334546 ],\n",
       "       [-5.5082154],\n",
       "       [-5.622445 ],\n",
       "       [-5.574755 ],\n",
       "       [-5.1337724],\n",
       "       [-4.7459307],\n",
       "       [-5.268661 ],\n",
       "       [-5.369119 ],\n",
       "       [-5.0541906],\n",
       "       [-4.6854916],\n",
       "       [-5.3130245],\n",
       "       [-4.7124047],\n",
       "       [-4.487172 ],\n",
       "       [-4.899134 ],\n",
       "       [-5.0842423],\n",
       "       [-4.543294 ],\n",
       "       [-4.3721414],\n",
       "       [-4.2032275],\n",
       "       [-4.067346 ],\n",
       "       [-4.7913747],\n",
       "       [-4.7605443],\n",
       "       [-4.2420483],\n",
       "       [-4.4480543],\n",
       "       [-4.524991 ],\n",
       "       [-4.525914 ],\n",
       "       [-4.4434185],\n",
       "       [-4.115525 ],\n",
       "       [-4.054968 ],\n",
       "       [-3.9783964],\n",
       "       [-3.7562966],\n",
       "       [-3.7931447],\n",
       "       [-4.0159273],\n",
       "       [-3.7304587],\n",
       "       [-3.7789688],\n",
       "       [-3.4533691],\n",
       "       [-3.7409549],\n",
       "       [-3.96519  ],\n",
       "       [-3.9908025]], dtype=float32)>"
      ]
     },
     "execution_count": 66,
     "metadata": {},
     "output_type": "execute_result"
    }
   ],
   "source": [
    "spectrogram[0][0]"
   ]
  },
  {
   "cell_type": "code",
   "execution_count": null,
   "metadata": {},
   "outputs": [],
   "source": [
    "batch_size = 16\n",
    "# After you have your balanced_data from all concatenations and after preprocessing\n",
    "balanced_data = balanced_data.map(preprocess_mel, num_parallel_calls=tf.data.AUTOTUNE)\n",
    "balanced_data = balanced_data.shuffle(buffer_size=1000)\n",
    "balanced_data = balanced_data.batch(batch_size)"
   ]
  },
  {
   "cell_type": "code",
   "execution_count": null,
   "metadata": {},
   "outputs": [],
   "source": [
    "# Now take the fixed subset, cache it, and repeat it\n",
    "balanced_data = balanced_data.cache().repeat()\n",
    "balanced_data = balanced_data.prefetch(tf.data.AUTOTUNE)\n",
    "\n",
    "# Split into training and testing datasets\n",
    "train = balanced_data.take(1600)\n",
    "test = balanced_data.skip(1600).take(400)"
   ]
  },
  {
   "cell_type": "code",
   "execution_count": null,
   "metadata": {},
   "outputs": [
    {
     "name": "stdout",
     "output_type": "stream",
     "text": [
      "Spectrograms shape: (16, 1491, 64, 1)\n",
      "Labels shape: (16,)\n"
     ]
    },
    {
     "name": "stderr",
     "output_type": "stream",
     "text": [
      "2025-04-10 14:38:50.111014: W tensorflow/core/kernels/data/cache_dataset_ops.cc:914] The calling iterator did not fully read the dataset being cached. In order to avoid unexpected truncation of the dataset, the partially cached contents of the dataset  will be discarded. This can happen if you have an input pipeline similar to `dataset.cache().take(k).repeat()`. You should use `dataset.take(k).cache().repeat()` instead.\n",
      "2025-04-10 14:38:50.158696: I tensorflow/core/framework/local_rendezvous.cc:405] Local rendezvous is aborting with status: OUT_OF_RANGE: End of sequence\n"
     ]
    }
   ],
   "source": [
    "for batch in balanced_data.take(1):\n",
    "    spectrograms, labels = batch\n",
    "    print(\"Spectrograms shape:\", spectrograms[0].shape)\n",
    "    print(\"Labels shape:\", labels.shape)"
   ]
  },
  {
   "cell_type": "code",
   "execution_count": null,
   "metadata": {},
   "outputs": [
    {
     "name": "stdout",
     "output_type": "stream",
     "text": [
      "Batches: 16\n",
      "Batches for training 3200.0\n",
      "Batches for testing 800.0\n"
     ]
    }
   ],
   "source": [
    "print(\"Batches:\", batch_size)\n",
    "print(\"Batches for training\", ((samples_per_class*8)/batch_size)*0.8)\n",
    "print(\"Batches for testing\", ((samples_per_class*8)/batch_size)*0.2)"
   ]
  },
  {
   "cell_type": "code",
   "execution_count": null,
   "metadata": {},
   "outputs": [],
   "source": [
    "train = balanced_data.take(3200)\n",
    "test = balanced_data.skip(3200).take(800)"
   ]
  },
  {
   "cell_type": "code",
   "execution_count": null,
   "metadata": {},
   "outputs": [
    {
     "name": "stderr",
     "output_type": "stream",
     "text": [
      "2025-04-10 15:17:27.276329: W tensorflow/core/kernels/data/cache_dataset_ops.cc:914] The calling iterator did not fully read the dataset being cached. In order to avoid unexpected truncation of the dataset, the partially cached contents of the dataset  will be discarded. This can happen if you have an input pipeline similar to `dataset.cache().take(k).repeat()`. You should use `dataset.take(k).cache().repeat()` instead.\n"
     ]
    }
   ],
   "source": [
    "samples, labels = train.as_numpy_iterator().next()"
   ]
  },
  {
   "cell_type": "code",
   "execution_count": null,
   "metadata": {},
   "outputs": [
    {
     "data": {
      "text/plain": [
       "(16, 1491, 64, 1)"
      ]
     },
     "execution_count": 72,
     "metadata": {},
     "output_type": "execute_result"
    }
   ],
   "source": [
    "samples[0].shape"
   ]
  },
  {
   "cell_type": "code",
   "execution_count": null,
   "metadata": {},
   "outputs": [
    {
     "data": {
      "text/plain": [
       "(16, 2)"
      ]
     },
     "execution_count": 73,
     "metadata": {},
     "output_type": "execute_result"
    }
   ],
   "source": [
    "samples[1].shape"
   ]
  },
  {
   "cell_type": "code",
   "execution_count": null,
   "metadata": {},
   "outputs": [
    {
     "data": {
      "text/html": [
       "<pre style=\"white-space:pre;overflow-x:auto;line-height:normal;font-family:Menlo,'DejaVu Sans Mono',consolas,'Courier New',monospace\"><span style=\"font-weight: bold\">Model: \"functional_1\"</span>\n",
       "</pre>\n"
      ],
      "text/plain": [
       "\u001b[1mModel: \"functional_1\"\u001b[0m\n"
      ]
     },
     "metadata": {},
     "output_type": "display_data"
    },
    {
     "data": {
      "text/html": [
       "<pre style=\"white-space:pre;overflow-x:auto;line-height:normal;font-family:Menlo,'DejaVu Sans Mono',consolas,'Courier New',monospace\">┏━━━━━━━━━━━━━━━━━━━━━┳━━━━━━━━━━━━━━━━━━━┳━━━━━━━━━━━━┳━━━━━━━━━━━━━━━━━━━┓\n",
       "┃<span style=\"font-weight: bold\"> Layer (type)        </span>┃<span style=\"font-weight: bold\"> Output Shape      </span>┃<span style=\"font-weight: bold\">    Param # </span>┃<span style=\"font-weight: bold\"> Connected to      </span>┃\n",
       "┡━━━━━━━━━━━━━━━━━━━━━╇━━━━━━━━━━━━━━━━━━━╇━━━━━━━━━━━━╇━━━━━━━━━━━━━━━━━━━┩\n",
       "│ spectrogram         │ (<span style=\"color: #00d7ff; text-decoration-color: #00d7ff\">None</span>, <span style=\"color: #00af00; text-decoration-color: #00af00\">1491</span>, <span style=\"color: #00af00; text-decoration-color: #00af00\">64</span>,  │          <span style=\"color: #00af00; text-decoration-color: #00af00\">0</span> │ -                 │\n",
       "│ (<span style=\"color: #0087ff; text-decoration-color: #0087ff\">InputLayer</span>)        │ <span style=\"color: #00af00; text-decoration-color: #00af00\">1</span>)                │            │                   │\n",
       "├─────────────────────┼───────────────────┼────────────┼───────────────────┤\n",
       "│ conv2d_3 (<span style=\"color: #0087ff; text-decoration-color: #0087ff\">Conv2D</span>)   │ (<span style=\"color: #00d7ff; text-decoration-color: #00d7ff\">None</span>, <span style=\"color: #00af00; text-decoration-color: #00af00\">1491</span>, <span style=\"color: #00af00; text-decoration-color: #00af00\">64</span>,  │      <span style=\"color: #00af00; text-decoration-color: #00af00\">1,600</span> │ spectrogram[<span style=\"color: #00af00; text-decoration-color: #00af00\">0</span>][<span style=\"color: #00af00; text-decoration-color: #00af00\">0</span>] │\n",
       "│                     │ <span style=\"color: #00af00; text-decoration-color: #00af00\">32</span>)               │            │                   │\n",
       "├─────────────────────┼───────────────────┼────────────┼───────────────────┤\n",
       "│ batch_normalizatio… │ (<span style=\"color: #00d7ff; text-decoration-color: #00d7ff\">None</span>, <span style=\"color: #00af00; text-decoration-color: #00af00\">1491</span>, <span style=\"color: #00af00; text-decoration-color: #00af00\">64</span>,  │        <span style=\"color: #00af00; text-decoration-color: #00af00\">128</span> │ conv2d_3[<span style=\"color: #00af00; text-decoration-color: #00af00\">0</span>][<span style=\"color: #00af00; text-decoration-color: #00af00\">0</span>]    │\n",
       "│ (<span style=\"color: #0087ff; text-decoration-color: #0087ff\">BatchNormalizatio…</span> │ <span style=\"color: #00af00; text-decoration-color: #00af00\">32</span>)               │            │                   │\n",
       "├─────────────────────┼───────────────────┼────────────┼───────────────────┤\n",
       "│ activation_3        │ (<span style=\"color: #00d7ff; text-decoration-color: #00d7ff\">None</span>, <span style=\"color: #00af00; text-decoration-color: #00af00\">1491</span>, <span style=\"color: #00af00; text-decoration-color: #00af00\">64</span>,  │          <span style=\"color: #00af00; text-decoration-color: #00af00\">0</span> │ batch_normalizat… │\n",
       "│ (<span style=\"color: #0087ff; text-decoration-color: #0087ff\">Activation</span>)        │ <span style=\"color: #00af00; text-decoration-color: #00af00\">32</span>)               │            │                   │\n",
       "├─────────────────────┼───────────────────┼────────────┼───────────────────┤\n",
       "│ max_pooling2d_3     │ (<span style=\"color: #00d7ff; text-decoration-color: #00d7ff\">None</span>, <span style=\"color: #00af00; text-decoration-color: #00af00\">745</span>, <span style=\"color: #00af00; text-decoration-color: #00af00\">32</span>,   │          <span style=\"color: #00af00; text-decoration-color: #00af00\">0</span> │ activation_3[<span style=\"color: #00af00; text-decoration-color: #00af00\">0</span>][<span style=\"color: #00af00; text-decoration-color: #00af00\">…</span> │\n",
       "│ (<span style=\"color: #0087ff; text-decoration-color: #0087ff\">MaxPooling2D</span>)      │ <span style=\"color: #00af00; text-decoration-color: #00af00\">32</span>)               │            │                   │\n",
       "├─────────────────────┼───────────────────┼────────────┼───────────────────┤\n",
       "│ dropout_4 (<span style=\"color: #0087ff; text-decoration-color: #0087ff\">Dropout</span>) │ (<span style=\"color: #00d7ff; text-decoration-color: #00d7ff\">None</span>, <span style=\"color: #00af00; text-decoration-color: #00af00\">745</span>, <span style=\"color: #00af00; text-decoration-color: #00af00\">32</span>,   │          <span style=\"color: #00af00; text-decoration-color: #00af00\">0</span> │ max_pooling2d_3[<span style=\"color: #00af00; text-decoration-color: #00af00\">…</span> │\n",
       "│                     │ <span style=\"color: #00af00; text-decoration-color: #00af00\">32</span>)               │            │                   │\n",
       "├─────────────────────┼───────────────────┼────────────┼───────────────────┤\n",
       "│ conv2d_4 (<span style=\"color: #0087ff; text-decoration-color: #0087ff\">Conv2D</span>)   │ (<span style=\"color: #00d7ff; text-decoration-color: #00d7ff\">None</span>, <span style=\"color: #00af00; text-decoration-color: #00af00\">745</span>, <span style=\"color: #00af00; text-decoration-color: #00af00\">32</span>,   │     <span style=\"color: #00af00; text-decoration-color: #00af00\">18,496</span> │ dropout_4[<span style=\"color: #00af00; text-decoration-color: #00af00\">0</span>][<span style=\"color: #00af00; text-decoration-color: #00af00\">0</span>]   │\n",
       "│                     │ <span style=\"color: #00af00; text-decoration-color: #00af00\">64</span>)               │            │                   │\n",
       "├─────────────────────┼───────────────────┼────────────┼───────────────────┤\n",
       "│ batch_normalizatio… │ (<span style=\"color: #00d7ff; text-decoration-color: #00d7ff\">None</span>, <span style=\"color: #00af00; text-decoration-color: #00af00\">745</span>, <span style=\"color: #00af00; text-decoration-color: #00af00\">32</span>,   │        <span style=\"color: #00af00; text-decoration-color: #00af00\">256</span> │ conv2d_4[<span style=\"color: #00af00; text-decoration-color: #00af00\">0</span>][<span style=\"color: #00af00; text-decoration-color: #00af00\">0</span>]    │\n",
       "│ (<span style=\"color: #0087ff; text-decoration-color: #0087ff\">BatchNormalizatio…</span> │ <span style=\"color: #00af00; text-decoration-color: #00af00\">64</span>)               │            │                   │\n",
       "├─────────────────────┼───────────────────┼────────────┼───────────────────┤\n",
       "│ activation_4        │ (<span style=\"color: #00d7ff; text-decoration-color: #00d7ff\">None</span>, <span style=\"color: #00af00; text-decoration-color: #00af00\">745</span>, <span style=\"color: #00af00; text-decoration-color: #00af00\">32</span>,   │          <span style=\"color: #00af00; text-decoration-color: #00af00\">0</span> │ batch_normalizat… │\n",
       "│ (<span style=\"color: #0087ff; text-decoration-color: #0087ff\">Activation</span>)        │ <span style=\"color: #00af00; text-decoration-color: #00af00\">64</span>)               │            │                   │\n",
       "├─────────────────────┼───────────────────┼────────────┼───────────────────┤\n",
       "│ max_pooling2d_4     │ (<span style=\"color: #00d7ff; text-decoration-color: #00d7ff\">None</span>, <span style=\"color: #00af00; text-decoration-color: #00af00\">372</span>, <span style=\"color: #00af00; text-decoration-color: #00af00\">16</span>,   │          <span style=\"color: #00af00; text-decoration-color: #00af00\">0</span> │ activation_4[<span style=\"color: #00af00; text-decoration-color: #00af00\">0</span>][<span style=\"color: #00af00; text-decoration-color: #00af00\">…</span> │\n",
       "│ (<span style=\"color: #0087ff; text-decoration-color: #0087ff\">MaxPooling2D</span>)      │ <span style=\"color: #00af00; text-decoration-color: #00af00\">64</span>)               │            │                   │\n",
       "├─────────────────────┼───────────────────┼────────────┼───────────────────┤\n",
       "│ dropout_5 (<span style=\"color: #0087ff; text-decoration-color: #0087ff\">Dropout</span>) │ (<span style=\"color: #00d7ff; text-decoration-color: #00d7ff\">None</span>, <span style=\"color: #00af00; text-decoration-color: #00af00\">372</span>, <span style=\"color: #00af00; text-decoration-color: #00af00\">16</span>,   │          <span style=\"color: #00af00; text-decoration-color: #00af00\">0</span> │ max_pooling2d_4[<span style=\"color: #00af00; text-decoration-color: #00af00\">…</span> │\n",
       "│                     │ <span style=\"color: #00af00; text-decoration-color: #00af00\">64</span>)               │            │                   │\n",
       "├─────────────────────┼───────────────────┼────────────┼───────────────────┤\n",
       "│ conv2d_5 (<span style=\"color: #0087ff; text-decoration-color: #0087ff\">Conv2D</span>)   │ (<span style=\"color: #00d7ff; text-decoration-color: #00d7ff\">None</span>, <span style=\"color: #00af00; text-decoration-color: #00af00\">372</span>, <span style=\"color: #00af00; text-decoration-color: #00af00\">16</span>,   │     <span style=\"color: #00af00; text-decoration-color: #00af00\">36,928</span> │ dropout_5[<span style=\"color: #00af00; text-decoration-color: #00af00\">0</span>][<span style=\"color: #00af00; text-decoration-color: #00af00\">0</span>]   │\n",
       "│                     │ <span style=\"color: #00af00; text-decoration-color: #00af00\">64</span>)               │            │                   │\n",
       "├─────────────────────┼───────────────────┼────────────┼───────────────────┤\n",
       "│ batch_normalizatio… │ (<span style=\"color: #00d7ff; text-decoration-color: #00d7ff\">None</span>, <span style=\"color: #00af00; text-decoration-color: #00af00\">372</span>, <span style=\"color: #00af00; text-decoration-color: #00af00\">16</span>,   │        <span style=\"color: #00af00; text-decoration-color: #00af00\">256</span> │ conv2d_5[<span style=\"color: #00af00; text-decoration-color: #00af00\">0</span>][<span style=\"color: #00af00; text-decoration-color: #00af00\">0</span>]    │\n",
       "│ (<span style=\"color: #0087ff; text-decoration-color: #0087ff\">BatchNormalizatio…</span> │ <span style=\"color: #00af00; text-decoration-color: #00af00\">64</span>)               │            │                   │\n",
       "├─────────────────────┼───────────────────┼────────────┼───────────────────┤\n",
       "│ activation_5        │ (<span style=\"color: #00d7ff; text-decoration-color: #00d7ff\">None</span>, <span style=\"color: #00af00; text-decoration-color: #00af00\">372</span>, <span style=\"color: #00af00; text-decoration-color: #00af00\">16</span>,   │          <span style=\"color: #00af00; text-decoration-color: #00af00\">0</span> │ batch_normalizat… │\n",
       "│ (<span style=\"color: #0087ff; text-decoration-color: #0087ff\">Activation</span>)        │ <span style=\"color: #00af00; text-decoration-color: #00af00\">64</span>)               │            │                   │\n",
       "├─────────────────────┼───────────────────┼────────────┼───────────────────┤\n",
       "│ max_pooling2d_5     │ (<span style=\"color: #00d7ff; text-decoration-color: #00d7ff\">None</span>, <span style=\"color: #00af00; text-decoration-color: #00af00\">186</span>, <span style=\"color: #00af00; text-decoration-color: #00af00\">8</span>,    │          <span style=\"color: #00af00; text-decoration-color: #00af00\">0</span> │ activation_5[<span style=\"color: #00af00; text-decoration-color: #00af00\">0</span>][<span style=\"color: #00af00; text-decoration-color: #00af00\">…</span> │\n",
       "│ (<span style=\"color: #0087ff; text-decoration-color: #0087ff\">MaxPooling2D</span>)      │ <span style=\"color: #00af00; text-decoration-color: #00af00\">64</span>)               │            │                   │\n",
       "├─────────────────────┼───────────────────┼────────────┼───────────────────┤\n",
       "│ dropout_6 (<span style=\"color: #0087ff; text-decoration-color: #0087ff\">Dropout</span>) │ (<span style=\"color: #00d7ff; text-decoration-color: #00d7ff\">None</span>, <span style=\"color: #00af00; text-decoration-color: #00af00\">186</span>, <span style=\"color: #00af00; text-decoration-color: #00af00\">8</span>,    │          <span style=\"color: #00af00; text-decoration-color: #00af00\">0</span> │ max_pooling2d_5[<span style=\"color: #00af00; text-decoration-color: #00af00\">…</span> │\n",
       "│                     │ <span style=\"color: #00af00; text-decoration-color: #00af00\">64</span>)               │            │                   │\n",
       "├─────────────────────┼───────────────────┼────────────┼───────────────────┤\n",
       "│ extra_features      │ (<span style=\"color: #00d7ff; text-decoration-color: #00d7ff\">None</span>, <span style=\"color: #00af00; text-decoration-color: #00af00\">2</span>)         │          <span style=\"color: #00af00; text-decoration-color: #00af00\">0</span> │ -                 │\n",
       "│ (<span style=\"color: #0087ff; text-decoration-color: #0087ff\">InputLayer</span>)        │                   │            │                   │\n",
       "├─────────────────────┼───────────────────┼────────────┼───────────────────┤\n",
       "│ global_average_poo… │ (<span style=\"color: #00d7ff; text-decoration-color: #00d7ff\">None</span>, <span style=\"color: #00af00; text-decoration-color: #00af00\">64</span>)        │          <span style=\"color: #00af00; text-decoration-color: #00af00\">0</span> │ dropout_6[<span style=\"color: #00af00; text-decoration-color: #00af00\">0</span>][<span style=\"color: #00af00; text-decoration-color: #00af00\">0</span>]   │\n",
       "│ (<span style=\"color: #0087ff; text-decoration-color: #0087ff\">GlobalAveragePool…</span> │                   │            │                   │\n",
       "├─────────────────────┼───────────────────┼────────────┼───────────────────┤\n",
       "│ dense_3 (<span style=\"color: #0087ff; text-decoration-color: #0087ff\">Dense</span>)     │ (<span style=\"color: #00d7ff; text-decoration-color: #00d7ff\">None</span>, <span style=\"color: #00af00; text-decoration-color: #00af00\">16</span>)        │         <span style=\"color: #00af00; text-decoration-color: #00af00\">48</span> │ extra_features[<span style=\"color: #00af00; text-decoration-color: #00af00\">0</span>… │\n",
       "├─────────────────────┼───────────────────┼────────────┼───────────────────┤\n",
       "│ concatenate_1       │ (<span style=\"color: #00d7ff; text-decoration-color: #00d7ff\">None</span>, <span style=\"color: #00af00; text-decoration-color: #00af00\">80</span>)        │          <span style=\"color: #00af00; text-decoration-color: #00af00\">0</span> │ global_average_p… │\n",
       "│ (<span style=\"color: #0087ff; text-decoration-color: #0087ff\">Concatenate</span>)       │                   │            │ dense_3[<span style=\"color: #00af00; text-decoration-color: #00af00\">0</span>][<span style=\"color: #00af00; text-decoration-color: #00af00\">0</span>]     │\n",
       "├─────────────────────┼───────────────────┼────────────┼───────────────────┤\n",
       "│ dense_4 (<span style=\"color: #0087ff; text-decoration-color: #0087ff\">Dense</span>)     │ (<span style=\"color: #00d7ff; text-decoration-color: #00d7ff\">None</span>, <span style=\"color: #00af00; text-decoration-color: #00af00\">64</span>)        │      <span style=\"color: #00af00; text-decoration-color: #00af00\">5,184</span> │ concatenate_1[<span style=\"color: #00af00; text-decoration-color: #00af00\">0</span>]… │\n",
       "├─────────────────────┼───────────────────┼────────────┼───────────────────┤\n",
       "│ dropout_7 (<span style=\"color: #0087ff; text-decoration-color: #0087ff\">Dropout</span>) │ (<span style=\"color: #00d7ff; text-decoration-color: #00d7ff\">None</span>, <span style=\"color: #00af00; text-decoration-color: #00af00\">64</span>)        │          <span style=\"color: #00af00; text-decoration-color: #00af00\">0</span> │ dense_4[<span style=\"color: #00af00; text-decoration-color: #00af00\">0</span>][<span style=\"color: #00af00; text-decoration-color: #00af00\">0</span>]     │\n",
       "├─────────────────────┼───────────────────┼────────────┼───────────────────┤\n",
       "│ dense_5 (<span style=\"color: #0087ff; text-decoration-color: #0087ff\">Dense</span>)     │ (<span style=\"color: #00d7ff; text-decoration-color: #00d7ff\">None</span>, <span style=\"color: #00af00; text-decoration-color: #00af00\">1</span>)         │         <span style=\"color: #00af00; text-decoration-color: #00af00\">65</span> │ dropout_7[<span style=\"color: #00af00; text-decoration-color: #00af00\">0</span>][<span style=\"color: #00af00; text-decoration-color: #00af00\">0</span>]   │\n",
       "└─────────────────────┴───────────────────┴────────────┴───────────────────┘\n",
       "</pre>\n"
      ],
      "text/plain": [
       "┏━━━━━━━━━━━━━━━━━━━━━┳━━━━━━━━━━━━━━━━━━━┳━━━━━━━━━━━━┳━━━━━━━━━━━━━━━━━━━┓\n",
       "┃\u001b[1m \u001b[0m\u001b[1mLayer (type)       \u001b[0m\u001b[1m \u001b[0m┃\u001b[1m \u001b[0m\u001b[1mOutput Shape     \u001b[0m\u001b[1m \u001b[0m┃\u001b[1m \u001b[0m\u001b[1m   Param #\u001b[0m\u001b[1m \u001b[0m┃\u001b[1m \u001b[0m\u001b[1mConnected to     \u001b[0m\u001b[1m \u001b[0m┃\n",
       "┡━━━━━━━━━━━━━━━━━━━━━╇━━━━━━━━━━━━━━━━━━━╇━━━━━━━━━━━━╇━━━━━━━━━━━━━━━━━━━┩\n",
       "│ spectrogram         │ (\u001b[38;5;45mNone\u001b[0m, \u001b[38;5;34m1491\u001b[0m, \u001b[38;5;34m64\u001b[0m,  │          \u001b[38;5;34m0\u001b[0m │ -                 │\n",
       "│ (\u001b[38;5;33mInputLayer\u001b[0m)        │ \u001b[38;5;34m1\u001b[0m)                │            │                   │\n",
       "├─────────────────────┼───────────────────┼────────────┼───────────────────┤\n",
       "│ conv2d_3 (\u001b[38;5;33mConv2D\u001b[0m)   │ (\u001b[38;5;45mNone\u001b[0m, \u001b[38;5;34m1491\u001b[0m, \u001b[38;5;34m64\u001b[0m,  │      \u001b[38;5;34m1,600\u001b[0m │ spectrogram[\u001b[38;5;34m0\u001b[0m][\u001b[38;5;34m0\u001b[0m] │\n",
       "│                     │ \u001b[38;5;34m32\u001b[0m)               │            │                   │\n",
       "├─────────────────────┼───────────────────┼────────────┼───────────────────┤\n",
       "│ batch_normalizatio… │ (\u001b[38;5;45mNone\u001b[0m, \u001b[38;5;34m1491\u001b[0m, \u001b[38;5;34m64\u001b[0m,  │        \u001b[38;5;34m128\u001b[0m │ conv2d_3[\u001b[38;5;34m0\u001b[0m][\u001b[38;5;34m0\u001b[0m]    │\n",
       "│ (\u001b[38;5;33mBatchNormalizatio…\u001b[0m │ \u001b[38;5;34m32\u001b[0m)               │            │                   │\n",
       "├─────────────────────┼───────────────────┼────────────┼───────────────────┤\n",
       "│ activation_3        │ (\u001b[38;5;45mNone\u001b[0m, \u001b[38;5;34m1491\u001b[0m, \u001b[38;5;34m64\u001b[0m,  │          \u001b[38;5;34m0\u001b[0m │ batch_normalizat… │\n",
       "│ (\u001b[38;5;33mActivation\u001b[0m)        │ \u001b[38;5;34m32\u001b[0m)               │            │                   │\n",
       "├─────────────────────┼───────────────────┼────────────┼───────────────────┤\n",
       "│ max_pooling2d_3     │ (\u001b[38;5;45mNone\u001b[0m, \u001b[38;5;34m745\u001b[0m, \u001b[38;5;34m32\u001b[0m,   │          \u001b[38;5;34m0\u001b[0m │ activation_3[\u001b[38;5;34m0\u001b[0m][\u001b[38;5;34m…\u001b[0m │\n",
       "│ (\u001b[38;5;33mMaxPooling2D\u001b[0m)      │ \u001b[38;5;34m32\u001b[0m)               │            │                   │\n",
       "├─────────────────────┼───────────────────┼────────────┼───────────────────┤\n",
       "│ dropout_4 (\u001b[38;5;33mDropout\u001b[0m) │ (\u001b[38;5;45mNone\u001b[0m, \u001b[38;5;34m745\u001b[0m, \u001b[38;5;34m32\u001b[0m,   │          \u001b[38;5;34m0\u001b[0m │ max_pooling2d_3[\u001b[38;5;34m…\u001b[0m │\n",
       "│                     │ \u001b[38;5;34m32\u001b[0m)               │            │                   │\n",
       "├─────────────────────┼───────────────────┼────────────┼───────────────────┤\n",
       "│ conv2d_4 (\u001b[38;5;33mConv2D\u001b[0m)   │ (\u001b[38;5;45mNone\u001b[0m, \u001b[38;5;34m745\u001b[0m, \u001b[38;5;34m32\u001b[0m,   │     \u001b[38;5;34m18,496\u001b[0m │ dropout_4[\u001b[38;5;34m0\u001b[0m][\u001b[38;5;34m0\u001b[0m]   │\n",
       "│                     │ \u001b[38;5;34m64\u001b[0m)               │            │                   │\n",
       "├─────────────────────┼───────────────────┼────────────┼───────────────────┤\n",
       "│ batch_normalizatio… │ (\u001b[38;5;45mNone\u001b[0m, \u001b[38;5;34m745\u001b[0m, \u001b[38;5;34m32\u001b[0m,   │        \u001b[38;5;34m256\u001b[0m │ conv2d_4[\u001b[38;5;34m0\u001b[0m][\u001b[38;5;34m0\u001b[0m]    │\n",
       "│ (\u001b[38;5;33mBatchNormalizatio…\u001b[0m │ \u001b[38;5;34m64\u001b[0m)               │            │                   │\n",
       "├─────────────────────┼───────────────────┼────────────┼───────────────────┤\n",
       "│ activation_4        │ (\u001b[38;5;45mNone\u001b[0m, \u001b[38;5;34m745\u001b[0m, \u001b[38;5;34m32\u001b[0m,   │          \u001b[38;5;34m0\u001b[0m │ batch_normalizat… │\n",
       "│ (\u001b[38;5;33mActivation\u001b[0m)        │ \u001b[38;5;34m64\u001b[0m)               │            │                   │\n",
       "├─────────────────────┼───────────────────┼────────────┼───────────────────┤\n",
       "│ max_pooling2d_4     │ (\u001b[38;5;45mNone\u001b[0m, \u001b[38;5;34m372\u001b[0m, \u001b[38;5;34m16\u001b[0m,   │          \u001b[38;5;34m0\u001b[0m │ activation_4[\u001b[38;5;34m0\u001b[0m][\u001b[38;5;34m…\u001b[0m │\n",
       "│ (\u001b[38;5;33mMaxPooling2D\u001b[0m)      │ \u001b[38;5;34m64\u001b[0m)               │            │                   │\n",
       "├─────────────────────┼───────────────────┼────────────┼───────────────────┤\n",
       "│ dropout_5 (\u001b[38;5;33mDropout\u001b[0m) │ (\u001b[38;5;45mNone\u001b[0m, \u001b[38;5;34m372\u001b[0m, \u001b[38;5;34m16\u001b[0m,   │          \u001b[38;5;34m0\u001b[0m │ max_pooling2d_4[\u001b[38;5;34m…\u001b[0m │\n",
       "│                     │ \u001b[38;5;34m64\u001b[0m)               │            │                   │\n",
       "├─────────────────────┼───────────────────┼────────────┼───────────────────┤\n",
       "│ conv2d_5 (\u001b[38;5;33mConv2D\u001b[0m)   │ (\u001b[38;5;45mNone\u001b[0m, \u001b[38;5;34m372\u001b[0m, \u001b[38;5;34m16\u001b[0m,   │     \u001b[38;5;34m36,928\u001b[0m │ dropout_5[\u001b[38;5;34m0\u001b[0m][\u001b[38;5;34m0\u001b[0m]   │\n",
       "│                     │ \u001b[38;5;34m64\u001b[0m)               │            │                   │\n",
       "├─────────────────────┼───────────────────┼────────────┼───────────────────┤\n",
       "│ batch_normalizatio… │ (\u001b[38;5;45mNone\u001b[0m, \u001b[38;5;34m372\u001b[0m, \u001b[38;5;34m16\u001b[0m,   │        \u001b[38;5;34m256\u001b[0m │ conv2d_5[\u001b[38;5;34m0\u001b[0m][\u001b[38;5;34m0\u001b[0m]    │\n",
       "│ (\u001b[38;5;33mBatchNormalizatio…\u001b[0m │ \u001b[38;5;34m64\u001b[0m)               │            │                   │\n",
       "├─────────────────────┼───────────────────┼────────────┼───────────────────┤\n",
       "│ activation_5        │ (\u001b[38;5;45mNone\u001b[0m, \u001b[38;5;34m372\u001b[0m, \u001b[38;5;34m16\u001b[0m,   │          \u001b[38;5;34m0\u001b[0m │ batch_normalizat… │\n",
       "│ (\u001b[38;5;33mActivation\u001b[0m)        │ \u001b[38;5;34m64\u001b[0m)               │            │                   │\n",
       "├─────────────────────┼───────────────────┼────────────┼───────────────────┤\n",
       "│ max_pooling2d_5     │ (\u001b[38;5;45mNone\u001b[0m, \u001b[38;5;34m186\u001b[0m, \u001b[38;5;34m8\u001b[0m,    │          \u001b[38;5;34m0\u001b[0m │ activation_5[\u001b[38;5;34m0\u001b[0m][\u001b[38;5;34m…\u001b[0m │\n",
       "│ (\u001b[38;5;33mMaxPooling2D\u001b[0m)      │ \u001b[38;5;34m64\u001b[0m)               │            │                   │\n",
       "├─────────────────────┼───────────────────┼────────────┼───────────────────┤\n",
       "│ dropout_6 (\u001b[38;5;33mDropout\u001b[0m) │ (\u001b[38;5;45mNone\u001b[0m, \u001b[38;5;34m186\u001b[0m, \u001b[38;5;34m8\u001b[0m,    │          \u001b[38;5;34m0\u001b[0m │ max_pooling2d_5[\u001b[38;5;34m…\u001b[0m │\n",
       "│                     │ \u001b[38;5;34m64\u001b[0m)               │            │                   │\n",
       "├─────────────────────┼───────────────────┼────────────┼───────────────────┤\n",
       "│ extra_features      │ (\u001b[38;5;45mNone\u001b[0m, \u001b[38;5;34m2\u001b[0m)         │          \u001b[38;5;34m0\u001b[0m │ -                 │\n",
       "│ (\u001b[38;5;33mInputLayer\u001b[0m)        │                   │            │                   │\n",
       "├─────────────────────┼───────────────────┼────────────┼───────────────────┤\n",
       "│ global_average_poo… │ (\u001b[38;5;45mNone\u001b[0m, \u001b[38;5;34m64\u001b[0m)        │          \u001b[38;5;34m0\u001b[0m │ dropout_6[\u001b[38;5;34m0\u001b[0m][\u001b[38;5;34m0\u001b[0m]   │\n",
       "│ (\u001b[38;5;33mGlobalAveragePool…\u001b[0m │                   │            │                   │\n",
       "├─────────────────────┼───────────────────┼────────────┼───────────────────┤\n",
       "│ dense_3 (\u001b[38;5;33mDense\u001b[0m)     │ (\u001b[38;5;45mNone\u001b[0m, \u001b[38;5;34m16\u001b[0m)        │         \u001b[38;5;34m48\u001b[0m │ extra_features[\u001b[38;5;34m0\u001b[0m… │\n",
       "├─────────────────────┼───────────────────┼────────────┼───────────────────┤\n",
       "│ concatenate_1       │ (\u001b[38;5;45mNone\u001b[0m, \u001b[38;5;34m80\u001b[0m)        │          \u001b[38;5;34m0\u001b[0m │ global_average_p… │\n",
       "│ (\u001b[38;5;33mConcatenate\u001b[0m)       │                   │            │ dense_3[\u001b[38;5;34m0\u001b[0m][\u001b[38;5;34m0\u001b[0m]     │\n",
       "├─────────────────────┼───────────────────┼────────────┼───────────────────┤\n",
       "│ dense_4 (\u001b[38;5;33mDense\u001b[0m)     │ (\u001b[38;5;45mNone\u001b[0m, \u001b[38;5;34m64\u001b[0m)        │      \u001b[38;5;34m5,184\u001b[0m │ concatenate_1[\u001b[38;5;34m0\u001b[0m]… │\n",
       "├─────────────────────┼───────────────────┼────────────┼───────────────────┤\n",
       "│ dropout_7 (\u001b[38;5;33mDropout\u001b[0m) │ (\u001b[38;5;45mNone\u001b[0m, \u001b[38;5;34m64\u001b[0m)        │          \u001b[38;5;34m0\u001b[0m │ dense_4[\u001b[38;5;34m0\u001b[0m][\u001b[38;5;34m0\u001b[0m]     │\n",
       "├─────────────────────┼───────────────────┼────────────┼───────────────────┤\n",
       "│ dense_5 (\u001b[38;5;33mDense\u001b[0m)     │ (\u001b[38;5;45mNone\u001b[0m, \u001b[38;5;34m1\u001b[0m)         │         \u001b[38;5;34m65\u001b[0m │ dropout_7[\u001b[38;5;34m0\u001b[0m][\u001b[38;5;34m0\u001b[0m]   │\n",
       "└─────────────────────┴───────────────────┴────────────┴───────────────────┘\n"
      ]
     },
     "metadata": {},
     "output_type": "display_data"
    },
    {
     "data": {
      "text/html": [
       "<pre style=\"white-space:pre;overflow-x:auto;line-height:normal;font-family:Menlo,'DejaVu Sans Mono',consolas,'Courier New',monospace\"><span style=\"font-weight: bold\"> Total params: </span><span style=\"color: #00af00; text-decoration-color: #00af00\">62,961</span> (245.94 KB)\n",
       "</pre>\n"
      ],
      "text/plain": [
       "\u001b[1m Total params: \u001b[0m\u001b[38;5;34m62,961\u001b[0m (245.94 KB)\n"
      ]
     },
     "metadata": {},
     "output_type": "display_data"
    },
    {
     "data": {
      "text/html": [
       "<pre style=\"white-space:pre;overflow-x:auto;line-height:normal;font-family:Menlo,'DejaVu Sans Mono',consolas,'Courier New',monospace\"><span style=\"font-weight: bold\"> Trainable params: </span><span style=\"color: #00af00; text-decoration-color: #00af00\">62,641</span> (244.69 KB)\n",
       "</pre>\n"
      ],
      "text/plain": [
       "\u001b[1m Trainable params: \u001b[0m\u001b[38;5;34m62,641\u001b[0m (244.69 KB)\n"
      ]
     },
     "metadata": {},
     "output_type": "display_data"
    },
    {
     "data": {
      "text/html": [
       "<pre style=\"white-space:pre;overflow-x:auto;line-height:normal;font-family:Menlo,'DejaVu Sans Mono',consolas,'Courier New',monospace\"><span style=\"font-weight: bold\"> Non-trainable params: </span><span style=\"color: #00af00; text-decoration-color: #00af00\">320</span> (1.25 KB)\n",
       "</pre>\n"
      ],
      "text/plain": [
       "\u001b[1m Non-trainable params: \u001b[0m\u001b[38;5;34m320\u001b[0m (1.25 KB)\n"
      ]
     },
     "metadata": {},
     "output_type": "display_data"
    }
   ],
   "source": [
    "# ---------------------------------------------------------\n",
    "# 10. Build a multi-input model (spectrogram + extra features)\n",
    "# ---------------------------------------------------------\n",
    "from tensorflow.keras.models import Model\n",
    "from tensorflow.keras.layers import Input, Conv2D, BatchNormalization, Activation, MaxPooling2D, Dropout, GlobalAveragePooling2D, Dense, concatenate\n",
    "\n",
    "\n",
    "# Spectrogram input\n",
    "spect_input = Input(shape=(1491, 64, 1), name='spectrogram')\n",
    "\n",
    "# Block 1: 7x7 kernel for large receptive field\n",
    "x = Conv2D(32, (7, 7), padding='same')(spect_input)\n",
    "x = BatchNormalization()(x)\n",
    "x = Activation('relu')(x)\n",
    "x = MaxPooling2D((2, 2))(x)\n",
    "x = Dropout(0.2)(x)\n",
    "\n",
    "# Block 2: 3x3 kernel\n",
    "x = Conv2D(64, (3, 3), padding='same')(x)\n",
    "x = BatchNormalization()(x)\n",
    "x = Activation('relu')(x)\n",
    "x = MaxPooling2D((2, 2))(x)\n",
    "x = Dropout(0.3)(x)\n",
    "\n",
    "# Block 3: 3x3 kernel with increased filters\n",
    "x = Conv2D(64, (3, 3), padding='same')(x)\n",
    "x = BatchNormalization()(x)\n",
    "x = Activation('relu')(x)\n",
    "x = MaxPooling2D((2, 2))(x)\n",
    "x = Dropout(0.4)(x)\n",
    "\n",
    "# Global pooling to collapse sptial dimensions\n",
    "x = GlobalAveragePooling2D()(x)\n",
    "\n",
    "# Extra features branch (if you have 2 extra normalized features)\n",
    "extra_input = Input(shape=(2,), name='extra_features')\n",
    "y = Dense(16, activation='relu')(extra_input)\n",
    "\n",
    "# Combine the convolutional features with extra features\n",
    "combined = concatenate([x, y])\n",
    "combined = Dense(64, activation='relu')(combined)\n",
    "combined = Dropout(0.6)(combined)\n",
    "output = Dense(1, activation='sigmoid')(combined)\n",
    "\n",
    "# Use AdamW with weight decay for improved regularization\n",
    "optimizer = tf.keras.optimizers.AdamW(\n",
    "    learning_rate=0.00003,\n",
    "    weight_decay=0.0000015\n",
    ")\n",
    "\n",
    "model = Model(inputs=[spect_input, extra_input], outputs=output)\n",
    "model.compile(optimizer=optimizer, loss='binary_crossentropy', metrics=['accuracy', 'precision', 'recall'])\n",
    "model.summary()"
   ]
  },
  {
   "cell_type": "code",
   "execution_count": null,
   "metadata": {},
   "outputs": [
    {
     "name": "stdout",
     "output_type": "stream",
     "text": [
      "Epoch 1/12\n"
     ]
    }
   ],
   "source": [
    "# ---------------------------------------------------------\n",
    "# 11. Train the model\n",
    "# ---------------------------------------------------------\n",
    "hist = model.fit(train, epochs=12, validation_data=test)"
   ]
  },
  {
   "cell_type": "code",
   "execution_count": null,
   "metadata": {},
   "outputs": [
    {
     "data": {
      "image/png": "[encoded data removed]",
      "text/plain": [
       "<Figure size 640x480 with 1 Axes>"
      ]
     },
     "metadata": {},
     "output_type": "display_data"
    }
   ],
   "source": [
    "import matplotlib.pyplot as plt\n",
    "\n",
    "plt.plot(hist.history['loss'], label='Training loss')\n",
    "plt.plot(hist.history['val_loss'], label='Validation loss')\n",
    "plt.xlabel('Epoch')\n",
    "plt.ylabel('Loss')\n",
    "plt.legend()\n",
    "plt.show()"
   ]
  },
  {
   "cell_type": "code",
   "execution_count": null,
   "metadata": {},
   "outputs": [
    {
     "data": {
      "image/png": "[encoded data removed]",
      "text/plain": [
       "<Figure size 640x480 with 1 Axes>"
      ]
     },
     "metadata": {},
     "output_type": "display_data"
    }
   ],
   "source": [
    "plt.plot(hist.history['accuracy'], label='Training accuracy')\n",
    "plt.plot(hist.history['val_accuracy'], label='Validation accuracy')\n",
    "plt.xlabel('Epoch')\n",
    "plt.ylabel('accuracy')\n",
    "plt.legend()\n",
    "plt.show()"
   ]
  },
  {
   "cell_type": "code",
   "execution_count": null,
   "metadata": {},
   "outputs": [
    {
     "data": {
      "image/png": "[encoded data removed]",
      "text/plain": [
       "<Figure size 640x480 with 1 Axes>"
      ]
     },
     "metadata": {},
     "output_type": "display_data"
    }
   ],
   "source": [
    "plt.plot(hist.history['precision'], label='Training Precision')\n",
    "plt.plot(hist.history['val_precision'], label='Validation Precision')\n",
    "plt.xlabel('Epoch')\n",
    "plt.ylabel('precision')\n",
    "plt.legend()\n",
    "plt.show()"
   ]
  },
  {
   "cell_type": "code",
   "execution_count": null,
   "metadata": {},
   "outputs": [
    {
     "data": {
      "image/png": "[encoded data removed]",
      "text/plain": [
       "<Figure size 640x480 with 1 Axes>"
      ]
     },
     "metadata": {},
     "output_type": "display_data"
    }
   ],
   "source": [
    "plt.plot(hist.history['recall'], label='Training recall')\n",
    "plt.plot(hist.history['val_recall'], label='Validation recall')\n",
    "plt.xlabel('Epoch')\n",
    "plt.ylabel('recall')\n",
    "plt.legend()\n",
    "plt.show()"
   ]
  }
 ],
 "metadata": {
  "kernelspec": {
   "display_name": "perch",
   "language": "python",
   "name": "python3"
  },
  "language_info": {
   "codemirror_mode": {
    "name": "ipython",
    "version": 3
   },
   "file_extension": ".py",
   "mimetype": "text/x-python",
   "name": "python",
   "nbconvert_exporter": "python",
   "pygments_lexer": "ipython3",
   "version": "3.10.14"
  }
 },
 "nbformat": 4,
 "nbformat_minor": 2
}
